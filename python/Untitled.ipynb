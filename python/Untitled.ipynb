{
 "cells": [
  {
   "cell_type": "code",
   "execution_count": 1,
   "id": "e9c79b37",
   "metadata": {},
   "outputs": [],
   "source": [
    "from camera_model import CameraModel"
   ]
  },
  {
   "cell_type": "code",
   "execution_count": 7,
   "id": "0e17bc57",
   "metadata": {},
   "outputs": [
    {
     "data": {
      "text/plain": [
       "array([[  93.83602 ,   48.121635],\n",
       "       [  94.54013 ,   47.996765],\n",
       "       [  95.24484 ,   47.871937],\n",
       "       ...,\n",
       "       [1206.4537  ,  892.74426 ],\n",
       "       [1207.1647  ,  892.6254  ],\n",
       "       [1207.875   ,  892.50653 ]])"
      ]
     },
     "execution_count": 7,
     "metadata": {},
     "output_type": "execute_result"
    }
   ],
   "source": [
    "model = CameraModel('/home/carlo/Documents/tesi/server/robotcar-dataset-sdk/models', 'stereo/right')\n",
    "model.bilinear_lut"
   ]
  }
 ],
 "metadata": {
  "kernelspec": {
   "display_name": "Python 3",
   "language": "python",
   "name": "python3"
  },
  "language_info": {
   "codemirror_mode": {
    "name": "ipython",
    "version": 3
   },
   "file_extension": ".py",
   "mimetype": "text/x-python",
   "name": "python",
   "nbconvert_exporter": "python",
   "pygments_lexer": "ipython3",
   "version": "3.7.10"
  }
 },
 "nbformat": 4,
 "nbformat_minor": 5
}
